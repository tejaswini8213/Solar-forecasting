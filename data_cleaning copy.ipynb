{
 "cells": [
  {
   "cell_type": "code",
   "execution_count": 37,
   "metadata": {},
   "outputs": [],
   "source": [
    "import pandas as pd\n",
    "import matplotlib.pyplot as plt \n",
    "import seaborn as sns"
   ]
  },
  {
   "cell_type": "code",
   "execution_count": 38,
   "metadata": {},
   "outputs": [],
   "source": [
    "df = pd.read_csv('timeseries.csv')  "
   ]
  },
  {
   "cell_type": "code",
   "execution_count": 39,
   "metadata": {},
   "outputs": [],
   "source": [
    "def mean_median_plot(df,column):\n",
    "  room_service_mean = df[column].mean()\n",
    "  room_service_median = df[column].median()\n",
    "  plt.figure(figsize = (10,7))\n",
    "  sns.distplot(df[column])\n",
    "  plt.axvline(room_service_mean,color='b', linestyle='--')\n",
    "  plt.axvline(room_service_median,color='red',)\n",
    "  plt.show()\n",
    "     "
   ]
  },
  {
   "cell_type": "code",
   "execution_count": 40,
   "metadata": {},
   "outputs": [
    {
     "data": {
      "text/plain": [
       "time     0\n",
       "P        0\n",
       "Gb(i)    0\n",
       "Gd(i)    0\n",
       "Gr(i)    0\n",
       "H_sun    0\n",
       "T2m      0\n",
       "WS10m    0\n",
       "Int      0\n",
       "dtype: int64"
      ]
     },
     "execution_count": 40,
     "metadata": {},
     "output_type": "execute_result"
    }
   ],
   "source": [
    "df.isnull().sum()"
   ]
  },
  {
   "cell_type": "code",
   "execution_count": 41,
   "metadata": {},
   "outputs": [],
   "source": [
    "# Select only numeric columns for calculating the mean\n",
    "numeric_columns = df.select_dtypes(include=['number']).columns\n",
    "\n",
    "# Fill missing values only for numeric columns with their respective mean\n",
    "df[numeric_columns] = df[numeric_columns].fillna(df[numeric_columns].mean())\n"
   ]
  },
  {
   "cell_type": "code",
   "execution_count": 42,
   "metadata": {},
   "outputs": [],
   "source": [
    "df.drop([\"Int\"],axis = 1,inplace=True)"
   ]
  },
  {
   "cell_type": "code",
   "execution_count": 43,
   "metadata": {},
   "outputs": [],
   "source": [
    "df['time'] = pd.to_datetime(df['time'], format='%Y%m%d:%H%M')"
   ]
  },
  {
   "cell_type": "code",
   "execution_count": null,
   "metadata": {},
   "outputs": [],
   "source": []
  },
  {
   "cell_type": "code",
   "execution_count": 44,
   "metadata": {},
   "outputs": [],
   "source": [
    "df.set_index('time', inplace=True)"
   ]
  },
  {
   "cell_type": "code",
   "execution_count": 45,
   "metadata": {},
   "outputs": [
    {
     "name": "stdout",
     "output_type": "stream",
     "text": [
      "Index(['P', 'Gb(i)', 'Gd(i)', 'Gr(i)', 'H_sun', 'T2m', 'WS10m'], dtype='object')\n"
     ]
    }
   ],
   "source": [
    "# Check column names in the DataFrame\n",
    "print(df.columns)"
   ]
  },
  {
   "cell_type": "code",
   "execution_count": 47,
   "metadata": {},
   "outputs": [],
   "source": [
    "daily_data = df[['P', 'Gb(i)', 'Gd(i)', 'Gr(i)', 'H_sun', 'T2m', 'WS10m']].resample('D').mean()\n",
    "\n",
    "\n",
    "daily_data.reset_index(inplace=True)\n",
    "\n",
    "\n",
    "daily_data['time'] = daily_data['time'].dt.date"
   ]
  },
  {
   "cell_type": "code",
   "execution_count": 48,
   "metadata": {},
   "outputs": [
    {
     "data": {
      "text/html": [
       "<div>\n",
       "<style scoped>\n",
       "    .dataframe tbody tr th:only-of-type {\n",
       "        vertical-align: middle;\n",
       "    }\n",
       "\n",
       "    .dataframe tbody tr th {\n",
       "        vertical-align: top;\n",
       "    }\n",
       "\n",
       "    .dataframe thead th {\n",
       "        text-align: right;\n",
       "    }\n",
       "</style>\n",
       "<table border=\"1\" class=\"dataframe\">\n",
       "  <thead>\n",
       "    <tr style=\"text-align: right;\">\n",
       "      <th></th>\n",
       "      <th>time</th>\n",
       "      <th>P</th>\n",
       "      <th>Gb(i)</th>\n",
       "      <th>Gd(i)</th>\n",
       "      <th>Gr(i)</th>\n",
       "      <th>H_sun</th>\n",
       "      <th>T2m</th>\n",
       "      <th>WS10m</th>\n",
       "    </tr>\n",
       "  </thead>\n",
       "  <tbody>\n",
       "    <tr>\n",
       "      <th>0</th>\n",
       "      <td>2014-12-31</td>\n",
       "      <td>0.000000</td>\n",
       "      <td>0.000000</td>\n",
       "      <td>0.000000</td>\n",
       "      <td>0.000000</td>\n",
       "      <td>0.000000</td>\n",
       "      <td>22.680000</td>\n",
       "      <td>1.380000</td>\n",
       "    </tr>\n",
       "    <tr>\n",
       "      <th>1</th>\n",
       "      <td>2015-01-01</td>\n",
       "      <td>116.412500</td>\n",
       "      <td>70.378333</td>\n",
       "      <td>86.086667</td>\n",
       "      <td>0.483750</td>\n",
       "      <td>15.396250</td>\n",
       "      <td>25.336250</td>\n",
       "      <td>2.053333</td>\n",
       "    </tr>\n",
       "    <tr>\n",
       "      <th>2</th>\n",
       "      <td>2015-01-02</td>\n",
       "      <td>209.844167</td>\n",
       "      <td>198.838333</td>\n",
       "      <td>78.765417</td>\n",
       "      <td>0.803333</td>\n",
       "      <td>15.422083</td>\n",
       "      <td>25.612917</td>\n",
       "      <td>2.629583</td>\n",
       "    </tr>\n",
       "    <tr>\n",
       "      <th>3</th>\n",
       "      <td>2015-01-03</td>\n",
       "      <td>197.027917</td>\n",
       "      <td>174.022500</td>\n",
       "      <td>88.432083</td>\n",
       "      <td>0.769583</td>\n",
       "      <td>15.448333</td>\n",
       "      <td>25.226250</td>\n",
       "      <td>1.760833</td>\n",
       "    </tr>\n",
       "    <tr>\n",
       "      <th>4</th>\n",
       "      <td>2015-01-04</td>\n",
       "      <td>203.748333</td>\n",
       "      <td>191.975000</td>\n",
       "      <td>80.451667</td>\n",
       "      <td>0.793750</td>\n",
       "      <td>15.477917</td>\n",
       "      <td>25.299583</td>\n",
       "      <td>2.025000</td>\n",
       "    </tr>\n",
       "    <tr>\n",
       "      <th>...</th>\n",
       "      <td>...</td>\n",
       "      <td>...</td>\n",
       "      <td>...</td>\n",
       "      <td>...</td>\n",
       "      <td>...</td>\n",
       "      <td>...</td>\n",
       "      <td>...</td>\n",
       "      <td>...</td>\n",
       "    </tr>\n",
       "    <tr>\n",
       "      <th>727</th>\n",
       "      <td>2016-12-27</td>\n",
       "      <td>206.542083</td>\n",
       "      <td>191.775000</td>\n",
       "      <td>75.880833</td>\n",
       "      <td>0.777917</td>\n",
       "      <td>15.300417</td>\n",
       "      <td>25.687500</td>\n",
       "      <td>4.914583</td>\n",
       "    </tr>\n",
       "    <tr>\n",
       "      <th>728</th>\n",
       "      <td>2016-12-28</td>\n",
       "      <td>187.202083</td>\n",
       "      <td>147.634583</td>\n",
       "      <td>94.829583</td>\n",
       "      <td>0.718750</td>\n",
       "      <td>15.314583</td>\n",
       "      <td>25.484583</td>\n",
       "      <td>4.659583</td>\n",
       "    </tr>\n",
       "    <tr>\n",
       "      <th>729</th>\n",
       "      <td>2016-12-29</td>\n",
       "      <td>191.040000</td>\n",
       "      <td>152.498333</td>\n",
       "      <td>94.136250</td>\n",
       "      <td>0.728750</td>\n",
       "      <td>15.330417</td>\n",
       "      <td>24.763333</td>\n",
       "      <td>4.277083</td>\n",
       "    </tr>\n",
       "    <tr>\n",
       "      <th>730</th>\n",
       "      <td>2016-12-30</td>\n",
       "      <td>201.463750</td>\n",
       "      <td>183.035000</td>\n",
       "      <td>79.759167</td>\n",
       "      <td>0.768750</td>\n",
       "      <td>15.347917</td>\n",
       "      <td>24.692500</td>\n",
       "      <td>3.658333</td>\n",
       "    </tr>\n",
       "    <tr>\n",
       "      <th>731</th>\n",
       "      <td>2016-12-31</td>\n",
       "      <td>212.838261</td>\n",
       "      <td>195.143913</td>\n",
       "      <td>82.471304</td>\n",
       "      <td>0.808261</td>\n",
       "      <td>16.036087</td>\n",
       "      <td>24.738261</td>\n",
       "      <td>3.376957</td>\n",
       "    </tr>\n",
       "  </tbody>\n",
       "</table>\n",
       "<p>732 rows × 8 columns</p>\n",
       "</div>"
      ],
      "text/plain": [
       "           time           P       Gb(i)      Gd(i)     Gr(i)      H_sun  \\\n",
       "0    2014-12-31    0.000000    0.000000   0.000000  0.000000   0.000000   \n",
       "1    2015-01-01  116.412500   70.378333  86.086667  0.483750  15.396250   \n",
       "2    2015-01-02  209.844167  198.838333  78.765417  0.803333  15.422083   \n",
       "3    2015-01-03  197.027917  174.022500  88.432083  0.769583  15.448333   \n",
       "4    2015-01-04  203.748333  191.975000  80.451667  0.793750  15.477917   \n",
       "..          ...         ...         ...        ...       ...        ...   \n",
       "727  2016-12-27  206.542083  191.775000  75.880833  0.777917  15.300417   \n",
       "728  2016-12-28  187.202083  147.634583  94.829583  0.718750  15.314583   \n",
       "729  2016-12-29  191.040000  152.498333  94.136250  0.728750  15.330417   \n",
       "730  2016-12-30  201.463750  183.035000  79.759167  0.768750  15.347917   \n",
       "731  2016-12-31  212.838261  195.143913  82.471304  0.808261  16.036087   \n",
       "\n",
       "           T2m     WS10m  \n",
       "0    22.680000  1.380000  \n",
       "1    25.336250  2.053333  \n",
       "2    25.612917  2.629583  \n",
       "3    25.226250  1.760833  \n",
       "4    25.299583  2.025000  \n",
       "..         ...       ...  \n",
       "727  25.687500  4.914583  \n",
       "728  25.484583  4.659583  \n",
       "729  24.763333  4.277083  \n",
       "730  24.692500  3.658333  \n",
       "731  24.738261  3.376957  \n",
       "\n",
       "[732 rows x 8 columns]"
      ]
     },
     "execution_count": 48,
     "metadata": {},
     "output_type": "execute_result"
    }
   ],
   "source": [
    "daily_data"
   ]
  },
  {
   "cell_type": "code",
   "execution_count": 49,
   "metadata": {},
   "outputs": [],
   "source": [
    "daily_data.to_csv(\"scaled_average_daily_data.csv\")"
   ]
  },
  {
   "cell_type": "code",
   "execution_count": null,
   "metadata": {},
   "outputs": [],
   "source": []
  }
 ],
 "metadata": {
  "kernelspec": {
   "display_name": "myenv",
   "language": "python",
   "name": "python3"
  },
  "language_info": {
   "codemirror_mode": {
    "name": "ipython",
    "version": 3
   },
   "file_extension": ".py",
   "mimetype": "text/x-python",
   "name": "python",
   "nbconvert_exporter": "python",
   "pygments_lexer": "ipython3",
   "version": "3.10.11"
  }
 },
 "nbformat": 4,
 "nbformat_minor": 2
}
